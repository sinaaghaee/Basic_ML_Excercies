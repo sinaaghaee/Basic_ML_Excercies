{
 "cells": [
  {
   "cell_type": "markdown",
   "id": "bccaa3db",
   "metadata": {},
   "source": [
    "# Perdiction of House Price in Tehran"
   ]
  },
  {
   "cell_type": "markdown",
   "id": "0b41d68b",
   "metadata": {},
   "source": [
    "You can find the description of the data set in [here](https://www.kaggle.com/mokar2001/house-price-tehran-iran)\n",
    "\n",
    "First, we should import libraries that we need for our analysis."
   ]
  },
  {
   "cell_type": "code",
   "execution_count": 1,
   "id": "82ba1850",
   "metadata": {},
   "outputs": [],
   "source": [
    "import matplotlib.pyplot as plt\n",
    "import pandas as pd\n",
    "import pylab as pl\n",
    "import numpy as np"
   ]
  },
  {
   "cell_type": "markdown",
   "id": "f11493e9",
   "metadata": {},
   "source": [
    "Now I'm changing the format of the display option in pandas. If I don't do this, I will see large Numbers in scientific form. Also, Since we will predict house prices and deal with large numbers, I chose to display zero decimals; it is easier to work with."
   ]
  },
  {
   "cell_type": "code",
   "execution_count": 2,
   "id": "d30493c6",
   "metadata": {},
   "outputs": [],
   "source": [
    "#pd.set_option('display.float_format', lambda x: '%.5f' % x)\n",
    "pd.options.display.float_format = \"{:,.0f}\".format\n",
    "#pd.reset_option('display.float_format')"
   ]
  },
  {
   "cell_type": "markdown",
   "id": "aaaaf9e5",
   "metadata": {},
   "source": [
    "Let's Explore the data and see what it looks like:"
   ]
  },
  {
   "cell_type": "code",
   "execution_count": 3,
   "id": "a1c19c76",
   "metadata": {
    "scrolled": true
   },
   "outputs": [
    {
     "data": {
      "text/html": [
       "<div>\n",
       "<style scoped>\n",
       "    .dataframe tbody tr th:only-of-type {\n",
       "        vertical-align: middle;\n",
       "    }\n",
       "\n",
       "    .dataframe tbody tr th {\n",
       "        vertical-align: top;\n",
       "    }\n",
       "\n",
       "    .dataframe thead th {\n",
       "        text-align: right;\n",
       "    }\n",
       "</style>\n",
       "<table border=\"1\" class=\"dataframe\">\n",
       "  <thead>\n",
       "    <tr style=\"text-align: right;\">\n",
       "      <th></th>\n",
       "      <th>Area</th>\n",
       "      <th>Room</th>\n",
       "      <th>Parking</th>\n",
       "      <th>Warehouse</th>\n",
       "      <th>Elevator</th>\n",
       "      <th>Address</th>\n",
       "      <th>Price</th>\n",
       "      <th>Price(USD)</th>\n",
       "    </tr>\n",
       "  </thead>\n",
       "  <tbody>\n",
       "    <tr>\n",
       "      <th>0</th>\n",
       "      <td>63</td>\n",
       "      <td>1</td>\n",
       "      <td>True</td>\n",
       "      <td>True</td>\n",
       "      <td>True</td>\n",
       "      <td>Shahran</td>\n",
       "      <td>1,850,000,000</td>\n",
       "      <td>61,667</td>\n",
       "    </tr>\n",
       "    <tr>\n",
       "      <th>1</th>\n",
       "      <td>60</td>\n",
       "      <td>1</td>\n",
       "      <td>True</td>\n",
       "      <td>True</td>\n",
       "      <td>True</td>\n",
       "      <td>Shahran</td>\n",
       "      <td>1,850,000,000</td>\n",
       "      <td>61,667</td>\n",
       "    </tr>\n",
       "    <tr>\n",
       "      <th>2</th>\n",
       "      <td>79</td>\n",
       "      <td>2</td>\n",
       "      <td>True</td>\n",
       "      <td>True</td>\n",
       "      <td>True</td>\n",
       "      <td>Pardis</td>\n",
       "      <td>550,000,000</td>\n",
       "      <td>18,333</td>\n",
       "    </tr>\n",
       "    <tr>\n",
       "      <th>3</th>\n",
       "      <td>95</td>\n",
       "      <td>2</td>\n",
       "      <td>True</td>\n",
       "      <td>True</td>\n",
       "      <td>True</td>\n",
       "      <td>Shahrake Qods</td>\n",
       "      <td>902,500,000</td>\n",
       "      <td>30,083</td>\n",
       "    </tr>\n",
       "    <tr>\n",
       "      <th>4</th>\n",
       "      <td>123</td>\n",
       "      <td>2</td>\n",
       "      <td>True</td>\n",
       "      <td>True</td>\n",
       "      <td>True</td>\n",
       "      <td>Shahrake Gharb</td>\n",
       "      <td>7,000,000,000</td>\n",
       "      <td>233,333</td>\n",
       "    </tr>\n",
       "    <tr>\n",
       "      <th>5</th>\n",
       "      <td>70</td>\n",
       "      <td>2</td>\n",
       "      <td>True</td>\n",
       "      <td>True</td>\n",
       "      <td>False</td>\n",
       "      <td>North Program Organization</td>\n",
       "      <td>2,050,000,000</td>\n",
       "      <td>68,333</td>\n",
       "    </tr>\n",
       "    <tr>\n",
       "      <th>6</th>\n",
       "      <td>87</td>\n",
       "      <td>2</td>\n",
       "      <td>True</td>\n",
       "      <td>True</td>\n",
       "      <td>True</td>\n",
       "      <td>Pardis</td>\n",
       "      <td>600,000,000</td>\n",
       "      <td>20,000</td>\n",
       "    </tr>\n",
       "    <tr>\n",
       "      <th>7</th>\n",
       "      <td>59</td>\n",
       "      <td>1</td>\n",
       "      <td>True</td>\n",
       "      <td>True</td>\n",
       "      <td>True</td>\n",
       "      <td>Shahran</td>\n",
       "      <td>2,150,000,000</td>\n",
       "      <td>71,667</td>\n",
       "    </tr>\n",
       "    <tr>\n",
       "      <th>8</th>\n",
       "      <td>54</td>\n",
       "      <td>2</td>\n",
       "      <td>True</td>\n",
       "      <td>True</td>\n",
       "      <td>False</td>\n",
       "      <td>Andisheh</td>\n",
       "      <td>493,000,000</td>\n",
       "      <td>16,433</td>\n",
       "    </tr>\n",
       "  </tbody>\n",
       "</table>\n",
       "</div>"
      ],
      "text/plain": [
       "  Area  Room  Parking  Warehouse  Elevator                     Address  \\\n",
       "0   63     1     True       True      True                     Shahran   \n",
       "1   60     1     True       True      True                     Shahran   \n",
       "2   79     2     True       True      True                      Pardis   \n",
       "3   95     2     True       True      True               Shahrake Qods   \n",
       "4  123     2     True       True      True              Shahrake Gharb   \n",
       "5   70     2     True       True     False  North Program Organization   \n",
       "6   87     2     True       True      True                      Pardis   \n",
       "7   59     1     True       True      True                     Shahran   \n",
       "8   54     2     True       True     False                    Andisheh   \n",
       "\n",
       "          Price  Price(USD)  \n",
       "0 1,850,000,000      61,667  \n",
       "1 1,850,000,000      61,667  \n",
       "2   550,000,000      18,333  \n",
       "3   902,500,000      30,083  \n",
       "4 7,000,000,000     233,333  \n",
       "5 2,050,000,000      68,333  \n",
       "6   600,000,000      20,000  \n",
       "7 2,150,000,000      71,667  \n",
       "8   493,000,000      16,433  "
      ]
     },
     "execution_count": 3,
     "metadata": {},
     "output_type": "execute_result"
    }
   ],
   "source": [
    "df = pd.read_csv(\"01- House_Price_Data.csv\")\n",
    "df.head(9)"
   ]
  },
  {
   "cell_type": "code",
   "execution_count": 4,
   "id": "486fb989",
   "metadata": {},
   "outputs": [
    {
     "data": {
      "text/html": [
       "<div>\n",
       "<style scoped>\n",
       "    .dataframe tbody tr th:only-of-type {\n",
       "        vertical-align: middle;\n",
       "    }\n",
       "\n",
       "    .dataframe tbody tr th {\n",
       "        vertical-align: top;\n",
       "    }\n",
       "\n",
       "    .dataframe thead th {\n",
       "        text-align: right;\n",
       "    }\n",
       "</style>\n",
       "<table border=\"1\" class=\"dataframe\">\n",
       "  <thead>\n",
       "    <tr style=\"text-align: right;\">\n",
       "      <th></th>\n",
       "      <th>Room</th>\n",
       "      <th>Price</th>\n",
       "      <th>Price(USD)</th>\n",
       "    </tr>\n",
       "  </thead>\n",
       "  <tbody>\n",
       "    <tr>\n",
       "      <th>count</th>\n",
       "      <td>3,479</td>\n",
       "      <td>3,479</td>\n",
       "      <td>3,479</td>\n",
       "    </tr>\n",
       "    <tr>\n",
       "      <th>mean</th>\n",
       "      <td>2</td>\n",
       "      <td>5,359,022,711</td>\n",
       "      <td>178,634</td>\n",
       "    </tr>\n",
       "    <tr>\n",
       "      <th>std</th>\n",
       "      <td>1</td>\n",
       "      <td>8,099,934,524</td>\n",
       "      <td>269,998</td>\n",
       "    </tr>\n",
       "    <tr>\n",
       "      <th>min</th>\n",
       "      <td>0</td>\n",
       "      <td>3,600,000</td>\n",
       "      <td>120</td>\n",
       "    </tr>\n",
       "    <tr>\n",
       "      <th>25%</th>\n",
       "      <td>2</td>\n",
       "      <td>1,418,250,000</td>\n",
       "      <td>47,275</td>\n",
       "    </tr>\n",
       "    <tr>\n",
       "      <th>50%</th>\n",
       "      <td>2</td>\n",
       "      <td>2,900,000,000</td>\n",
       "      <td>96,667</td>\n",
       "    </tr>\n",
       "    <tr>\n",
       "      <th>75%</th>\n",
       "      <td>2</td>\n",
       "      <td>6,000,000,000</td>\n",
       "      <td>200,000</td>\n",
       "    </tr>\n",
       "    <tr>\n",
       "      <th>max</th>\n",
       "      <td>5</td>\n",
       "      <td>92,400,000,000</td>\n",
       "      <td>3,080,000</td>\n",
       "    </tr>\n",
       "  </tbody>\n",
       "</table>\n",
       "</div>"
      ],
      "text/plain": [
       "       Room          Price  Price(USD)\n",
       "count 3,479          3,479       3,479\n",
       "mean      2  5,359,022,711     178,634\n",
       "std       1  8,099,934,524     269,998\n",
       "min       0      3,600,000         120\n",
       "25%       2  1,418,250,000      47,275\n",
       "50%       2  2,900,000,000      96,667\n",
       "75%       2  6,000,000,000     200,000\n",
       "max       5 92,400,000,000   3,080,000"
      ]
     },
     "execution_count": 4,
     "metadata": {},
     "output_type": "execute_result"
    }
   ],
   "source": [
    "df.describe()"
   ]
  },
  {
   "cell_type": "code",
   "execution_count": 5,
   "id": "40438f88",
   "metadata": {},
   "outputs": [
    {
     "data": {
      "text/plain": [
       "Area           object\n",
       "Room            int64\n",
       "Parking          bool\n",
       "Warehouse        bool\n",
       "Elevator         bool\n",
       "Address        object\n",
       "Price         float64\n",
       "Price(USD)    float64\n",
       "dtype: object"
      ]
     },
     "execution_count": 5,
     "metadata": {},
     "output_type": "execute_result"
    }
   ],
   "source": [
    "df.dtypes"
   ]
  },
  {
   "cell_type": "markdown",
   "id": "34290b01",
   "metadata": {},
   "source": [
    "As you see, the type of  the column Area is an object, and I need to change it to float for further analysis, but the problem is I cant not use the following line to do that:\n",
    "\n",
    "```python\n",
    "df['Area'].astype(str).astype(float)\n",
    "\n",
    "```\n",
    "\n",
    "The reason is that there are large numbers in this column that have 1000 separators, so first, I need to remove those commas so then  I can change the type to float:"
   ]
  },
  {
   "cell_type": "code",
   "execution_count": 6,
   "id": "16bff2be",
   "metadata": {},
   "outputs": [],
   "source": [
    "df[\"Area\"] = df[\"Area\"].apply(lambda x: float(x.split()[0].replace(',', '')))"
   ]
  },
  {
   "cell_type": "code",
   "execution_count": 7,
   "id": "c078cb7e",
   "metadata": {},
   "outputs": [
    {
     "data": {
      "text/plain": [
       "0       63\n",
       "1       60\n",
       "2       79\n",
       "3       95\n",
       "4      123\n",
       "        ..\n",
       "3474    86\n",
       "3475    83\n",
       "3476    75\n",
       "3477   105\n",
       "3478    82\n",
       "Name: Area, Length: 3479, dtype: float64"
      ]
     },
     "execution_count": 7,
     "metadata": {},
     "output_type": "execute_result"
    }
   ],
   "source": [
    "df['Area'].astype(str).astype(float)"
   ]
  },
  {
   "cell_type": "code",
   "execution_count": 8,
   "id": "4202dec3",
   "metadata": {},
   "outputs": [
    {
     "data": {
      "text/plain": [
       "Area          float64\n",
       "Room            int64\n",
       "Parking          bool\n",
       "Warehouse        bool\n",
       "Elevator         bool\n",
       "Address        object\n",
       "Price         float64\n",
       "Price(USD)    float64\n",
       "dtype: object"
      ]
     },
     "execution_count": 8,
     "metadata": {},
     "output_type": "execute_result"
    }
   ],
   "source": [
    "df.dtypes"
   ]
  },
  {
   "cell_type": "code",
   "execution_count": 9,
   "id": "0604f930",
   "metadata": {
    "scrolled": true
   },
   "outputs": [
    {
     "data": {
      "text/html": [
       "<div>\n",
       "<style scoped>\n",
       "    .dataframe tbody tr th:only-of-type {\n",
       "        vertical-align: middle;\n",
       "    }\n",
       "\n",
       "    .dataframe tbody tr th {\n",
       "        vertical-align: top;\n",
       "    }\n",
       "\n",
       "    .dataframe thead th {\n",
       "        text-align: right;\n",
       "    }\n",
       "</style>\n",
       "<table border=\"1\" class=\"dataframe\">\n",
       "  <thead>\n",
       "    <tr style=\"text-align: right;\">\n",
       "      <th></th>\n",
       "      <th>Area</th>\n",
       "      <th>Room</th>\n",
       "      <th>Price</th>\n",
       "      <th>Price(USD)</th>\n",
       "    </tr>\n",
       "  </thead>\n",
       "  <tbody>\n",
       "    <tr>\n",
       "      <th>count</th>\n",
       "      <td>3,479</td>\n",
       "      <td>3,479</td>\n",
       "      <td>3,479</td>\n",
       "      <td>3,479</td>\n",
       "    </tr>\n",
       "    <tr>\n",
       "      <th>mean</th>\n",
       "      <td>8,744,000</td>\n",
       "      <td>2</td>\n",
       "      <td>5,359,022,711</td>\n",
       "      <td>178,634</td>\n",
       "    </tr>\n",
       "    <tr>\n",
       "      <th>std</th>\n",
       "      <td>316,726,629</td>\n",
       "      <td>1</td>\n",
       "      <td>8,099,934,524</td>\n",
       "      <td>269,998</td>\n",
       "    </tr>\n",
       "    <tr>\n",
       "      <th>min</th>\n",
       "      <td>30</td>\n",
       "      <td>0</td>\n",
       "      <td>3,600,000</td>\n",
       "      <td>120</td>\n",
       "    </tr>\n",
       "    <tr>\n",
       "      <th>25%</th>\n",
       "      <td>69</td>\n",
       "      <td>2</td>\n",
       "      <td>1,418,250,000</td>\n",
       "      <td>47,275</td>\n",
       "    </tr>\n",
       "    <tr>\n",
       "      <th>50%</th>\n",
       "      <td>90</td>\n",
       "      <td>2</td>\n",
       "      <td>2,900,000,000</td>\n",
       "      <td>96,667</td>\n",
       "    </tr>\n",
       "    <tr>\n",
       "      <th>75%</th>\n",
       "      <td>120</td>\n",
       "      <td>2</td>\n",
       "      <td>6,000,000,000</td>\n",
       "      <td>200,000</td>\n",
       "    </tr>\n",
       "    <tr>\n",
       "      <th>max</th>\n",
       "      <td>16,160,000,000</td>\n",
       "      <td>5</td>\n",
       "      <td>92,400,000,000</td>\n",
       "      <td>3,080,000</td>\n",
       "    </tr>\n",
       "  </tbody>\n",
       "</table>\n",
       "</div>"
      ],
      "text/plain": [
       "                Area  Room          Price  Price(USD)\n",
       "count          3,479 3,479          3,479       3,479\n",
       "mean       8,744,000     2  5,359,022,711     178,634\n",
       "std      316,726,629     1  8,099,934,524     269,998\n",
       "min               30     0      3,600,000         120\n",
       "25%               69     2  1,418,250,000      47,275\n",
       "50%               90     2  2,900,000,000      96,667\n",
       "75%              120     2  6,000,000,000     200,000\n",
       "max   16,160,000,000     5 92,400,000,000   3,080,000"
      ]
     },
     "execution_count": 9,
     "metadata": {},
     "output_type": "execute_result"
    }
   ],
   "source": [
    "df.describe()"
   ]
  },
  {
   "cell_type": "markdown",
   "id": "5b0b33b1",
   "metadata": {},
   "source": [
    "It seems that we have some vast numbers for Areas which can not be correct. So let's find them by sorting the data on the Area column:"
   ]
  },
  {
   "cell_type": "code",
   "execution_count": 10,
   "id": "f16688d1",
   "metadata": {},
   "outputs": [
    {
     "data": {
      "text/html": [
       "<div>\n",
       "<style scoped>\n",
       "    .dataframe tbody tr th:only-of-type {\n",
       "        vertical-align: middle;\n",
       "    }\n",
       "\n",
       "    .dataframe tbody tr th {\n",
       "        vertical-align: top;\n",
       "    }\n",
       "\n",
       "    .dataframe thead th {\n",
       "        text-align: right;\n",
       "    }\n",
       "</style>\n",
       "<table border=\"1\" class=\"dataframe\">\n",
       "  <thead>\n",
       "    <tr style=\"text-align: right;\">\n",
       "      <th></th>\n",
       "      <th>Area</th>\n",
       "      <th>Room</th>\n",
       "      <th>Parking</th>\n",
       "      <th>Warehouse</th>\n",
       "      <th>Elevator</th>\n",
       "      <th>Address</th>\n",
       "      <th>Price</th>\n",
       "      <th>Price(USD)</th>\n",
       "    </tr>\n",
       "  </thead>\n",
       "  <tbody>\n",
       "    <tr>\n",
       "      <th>709</th>\n",
       "      <td>16,160,000,000</td>\n",
       "      <td>3</td>\n",
       "      <td>True</td>\n",
       "      <td>True</td>\n",
       "      <td>True</td>\n",
       "      <td>Pasdaran</td>\n",
       "      <td>16,160,000,000</td>\n",
       "      <td>538,667</td>\n",
       "    </tr>\n",
       "    <tr>\n",
       "      <th>1604</th>\n",
       "      <td>8,400,000,000</td>\n",
       "      <td>2</td>\n",
       "      <td>True</td>\n",
       "      <td>True</td>\n",
       "      <td>True</td>\n",
       "      <td>Gheitarieh</td>\n",
       "      <td>8,700,000,000</td>\n",
       "      <td>290,000</td>\n",
       "    </tr>\n",
       "    <tr>\n",
       "      <th>570</th>\n",
       "      <td>3,310,000,000</td>\n",
       "      <td>2</td>\n",
       "      <td>True</td>\n",
       "      <td>True</td>\n",
       "      <td>True</td>\n",
       "      <td>Ostad Moein</td>\n",
       "      <td>3,310,000,000</td>\n",
       "      <td>110,333</td>\n",
       "    </tr>\n",
       "    <tr>\n",
       "      <th>2802</th>\n",
       "      <td>2,550,000,000</td>\n",
       "      <td>2</td>\n",
       "      <td>True</td>\n",
       "      <td>True</td>\n",
       "      <td>True</td>\n",
       "      <td>Central Janatabad</td>\n",
       "      <td>2,550,000,000</td>\n",
       "      <td>85,000</td>\n",
       "    </tr>\n",
       "    <tr>\n",
       "      <th>2171</th>\n",
       "      <td>3,600</td>\n",
       "      <td>2</td>\n",
       "      <td>False</td>\n",
       "      <td>False</td>\n",
       "      <td>False</td>\n",
       "      <td>Shahryar</td>\n",
       "      <td>9,720,000,000</td>\n",
       "      <td>324,000</td>\n",
       "    </tr>\n",
       "    <tr>\n",
       "      <th>807</th>\n",
       "      <td>1,000</td>\n",
       "      <td>2</td>\n",
       "      <td>True</td>\n",
       "      <td>True</td>\n",
       "      <td>False</td>\n",
       "      <td>Damavand</td>\n",
       "      <td>7,000,000,000</td>\n",
       "      <td>233,333</td>\n",
       "    </tr>\n",
       "    <tr>\n",
       "      <th>1694</th>\n",
       "      <td>929</td>\n",
       "      <td>5</td>\n",
       "      <td>True</td>\n",
       "      <td>True</td>\n",
       "      <td>False</td>\n",
       "      <td>Zafar</td>\n",
       "      <td>80,000,000,000</td>\n",
       "      <td>2,666,667</td>\n",
       "    </tr>\n",
       "    <tr>\n",
       "      <th>1974</th>\n",
       "      <td>900</td>\n",
       "      <td>3</td>\n",
       "      <td>True</td>\n",
       "      <td>True</td>\n",
       "      <td>False</td>\n",
       "      <td>Damavand</td>\n",
       "      <td>8,500,000,000</td>\n",
       "      <td>283,333</td>\n",
       "    </tr>\n",
       "    <tr>\n",
       "      <th>573</th>\n",
       "      <td>863</td>\n",
       "      <td>2</td>\n",
       "      <td>True</td>\n",
       "      <td>True</td>\n",
       "      <td>True</td>\n",
       "      <td>Gheitarieh</td>\n",
       "      <td>7,830,000,000</td>\n",
       "      <td>261,000</td>\n",
       "    </tr>\n",
       "    <tr>\n",
       "      <th>831</th>\n",
       "      <td>750</td>\n",
       "      <td>5</td>\n",
       "      <td>True</td>\n",
       "      <td>True</td>\n",
       "      <td>True</td>\n",
       "      <td>Mahmoudieh</td>\n",
       "      <td>75,000,000,000</td>\n",
       "      <td>2,500,000</td>\n",
       "    </tr>\n",
       "    <tr>\n",
       "      <th>3115</th>\n",
       "      <td>750</td>\n",
       "      <td>5</td>\n",
       "      <td>True</td>\n",
       "      <td>True</td>\n",
       "      <td>False</td>\n",
       "      <td>Varamin - Beheshti</td>\n",
       "      <td>3,500,000,000</td>\n",
       "      <td>116,667</td>\n",
       "    </tr>\n",
       "    <tr>\n",
       "      <th>1810</th>\n",
       "      <td>705</td>\n",
       "      <td>5</td>\n",
       "      <td>True</td>\n",
       "      <td>True</td>\n",
       "      <td>False</td>\n",
       "      <td>Abazar</td>\n",
       "      <td>91,000,000,000</td>\n",
       "      <td>3,033,333</td>\n",
       "    </tr>\n",
       "    <tr>\n",
       "      <th>2647</th>\n",
       "      <td>700</td>\n",
       "      <td>3</td>\n",
       "      <td>True</td>\n",
       "      <td>True</td>\n",
       "      <td>False</td>\n",
       "      <td>Damavand</td>\n",
       "      <td>7,000,000,000</td>\n",
       "      <td>233,333</td>\n",
       "    </tr>\n",
       "    <tr>\n",
       "      <th>2481</th>\n",
       "      <td>700</td>\n",
       "      <td>3</td>\n",
       "      <td>True</td>\n",
       "      <td>True</td>\n",
       "      <td>False</td>\n",
       "      <td>Damavand</td>\n",
       "      <td>4,500,000,000</td>\n",
       "      <td>150,000</td>\n",
       "    </tr>\n",
       "    <tr>\n",
       "      <th>819</th>\n",
       "      <td>680</td>\n",
       "      <td>5</td>\n",
       "      <td>True</td>\n",
       "      <td>True</td>\n",
       "      <td>False</td>\n",
       "      <td>Ekhtiarieh</td>\n",
       "      <td>81,600,000,000</td>\n",
       "      <td>2,720,000</td>\n",
       "    </tr>\n",
       "  </tbody>\n",
       "</table>\n",
       "</div>"
      ],
      "text/plain": [
       "               Area  Room  Parking  Warehouse  Elevator             Address  \\\n",
       "709  16,160,000,000     3     True       True      True            Pasdaran   \n",
       "1604  8,400,000,000     2     True       True      True          Gheitarieh   \n",
       "570   3,310,000,000     2     True       True      True         Ostad Moein   \n",
       "2802  2,550,000,000     2     True       True      True   Central Janatabad   \n",
       "2171          3,600     2    False      False     False            Shahryar   \n",
       "807           1,000     2     True       True     False            Damavand   \n",
       "1694            929     5     True       True     False               Zafar   \n",
       "1974            900     3     True       True     False            Damavand   \n",
       "573             863     2     True       True      True          Gheitarieh   \n",
       "831             750     5     True       True      True          Mahmoudieh   \n",
       "3115            750     5     True       True     False  Varamin - Beheshti   \n",
       "1810            705     5     True       True     False              Abazar   \n",
       "2647            700     3     True       True     False            Damavand   \n",
       "2481            700     3     True       True     False            Damavand   \n",
       "819             680     5     True       True     False          Ekhtiarieh   \n",
       "\n",
       "              Price  Price(USD)  \n",
       "709  16,160,000,000     538,667  \n",
       "1604  8,700,000,000     290,000  \n",
       "570   3,310,000,000     110,333  \n",
       "2802  2,550,000,000      85,000  \n",
       "2171  9,720,000,000     324,000  \n",
       "807   7,000,000,000     233,333  \n",
       "1694 80,000,000,000   2,666,667  \n",
       "1974  8,500,000,000     283,333  \n",
       "573   7,830,000,000     261,000  \n",
       "831  75,000,000,000   2,500,000  \n",
       "3115  3,500,000,000     116,667  \n",
       "1810 91,000,000,000   3,033,333  \n",
       "2647  7,000,000,000     233,333  \n",
       "2481  4,500,000,000     150,000  \n",
       "819  81,600,000,000   2,720,000  "
      ]
     },
     "execution_count": 10,
     "metadata": {},
     "output_type": "execute_result"
    }
   ],
   "source": [
    "df.sort_values(by='Area', ascending=False).head(15)"
   ]
  },
  {
   "cell_type": "markdown",
   "id": "da4dde9b",
   "metadata": {},
   "source": [
    "Based on the addresses and prices, the data for the first four houses seem wrong (the first four areas are insanely large for an apartment) but others seem reasonable. \n",
    "Since there are only four incorrect data and we have a total number of 3479 rows, I'm just going to drop these four."
   ]
  },
  {
   "cell_type": "code",
   "execution_count": 11,
   "id": "3359c3fe",
   "metadata": {},
   "outputs": [],
   "source": [
    "df = df.drop([709, 1604, 570, 2802])"
   ]
  },
  {
   "cell_type": "code",
   "execution_count": 12,
   "id": "741cfa78",
   "metadata": {},
   "outputs": [
    {
     "data": {
      "text/html": [
       "<div>\n",
       "<style scoped>\n",
       "    .dataframe tbody tr th:only-of-type {\n",
       "        vertical-align: middle;\n",
       "    }\n",
       "\n",
       "    .dataframe tbody tr th {\n",
       "        vertical-align: top;\n",
       "    }\n",
       "\n",
       "    .dataframe thead th {\n",
       "        text-align: right;\n",
       "    }\n",
       "</style>\n",
       "<table border=\"1\" class=\"dataframe\">\n",
       "  <thead>\n",
       "    <tr style=\"text-align: right;\">\n",
       "      <th></th>\n",
       "      <th>Area</th>\n",
       "      <th>Room</th>\n",
       "      <th>Price</th>\n",
       "      <th>Price(USD)</th>\n",
       "    </tr>\n",
       "  </thead>\n",
       "  <tbody>\n",
       "    <tr>\n",
       "      <th>count</th>\n",
       "      <td>3,475</td>\n",
       "      <td>3,475</td>\n",
       "      <td>3,475</td>\n",
       "      <td>3,475</td>\n",
       "    </tr>\n",
       "    <tr>\n",
       "      <th>mean</th>\n",
       "      <td>108</td>\n",
       "      <td>2</td>\n",
       "      <td>5,356,351,082</td>\n",
       "      <td>178,545</td>\n",
       "    </tr>\n",
       "    <tr>\n",
       "      <th>std</th>\n",
       "      <td>92</td>\n",
       "      <td>1</td>\n",
       "      <td>8,102,110,888</td>\n",
       "      <td>270,070</td>\n",
       "    </tr>\n",
       "    <tr>\n",
       "      <th>min</th>\n",
       "      <td>30</td>\n",
       "      <td>0</td>\n",
       "      <td>3,600,000</td>\n",
       "      <td>120</td>\n",
       "    </tr>\n",
       "    <tr>\n",
       "      <th>25%</th>\n",
       "      <td>69</td>\n",
       "      <td>2</td>\n",
       "      <td>1,416,250,000</td>\n",
       "      <td>47,208</td>\n",
       "    </tr>\n",
       "    <tr>\n",
       "      <th>50%</th>\n",
       "      <td>90</td>\n",
       "      <td>2</td>\n",
       "      <td>2,891,700,000</td>\n",
       "      <td>96,390</td>\n",
       "    </tr>\n",
       "    <tr>\n",
       "      <th>75%</th>\n",
       "      <td>120</td>\n",
       "      <td>2</td>\n",
       "      <td>6,000,000,000</td>\n",
       "      <td>200,000</td>\n",
       "    </tr>\n",
       "    <tr>\n",
       "      <th>max</th>\n",
       "      <td>3,600</td>\n",
       "      <td>5</td>\n",
       "      <td>92,400,000,000</td>\n",
       "      <td>3,080,000</td>\n",
       "    </tr>\n",
       "  </tbody>\n",
       "</table>\n",
       "</div>"
      ],
      "text/plain": [
       "       Area  Room          Price  Price(USD)\n",
       "count 3,475 3,475          3,475       3,475\n",
       "mean    108     2  5,356,351,082     178,545\n",
       "std      92     1  8,102,110,888     270,070\n",
       "min      30     0      3,600,000         120\n",
       "25%      69     2  1,416,250,000      47,208\n",
       "50%      90     2  2,891,700,000      96,390\n",
       "75%     120     2  6,000,000,000     200,000\n",
       "max   3,600     5 92,400,000,000   3,080,000"
      ]
     },
     "execution_count": 12,
     "metadata": {},
     "output_type": "execute_result"
    }
   ],
   "source": [
    "df.describe()"
   ]
  },
  {
   "cell_type": "code",
   "execution_count": 13,
   "id": "1fe3e83f",
   "metadata": {},
   "outputs": [
    {
     "data": {
      "text/html": [
       "<div>\n",
       "<style scoped>\n",
       "    .dataframe tbody tr th:only-of-type {\n",
       "        vertical-align: middle;\n",
       "    }\n",
       "\n",
       "    .dataframe tbody tr th {\n",
       "        vertical-align: top;\n",
       "    }\n",
       "\n",
       "    .dataframe thead th {\n",
       "        text-align: right;\n",
       "    }\n",
       "</style>\n",
       "<table border=\"1\" class=\"dataframe\">\n",
       "  <thead>\n",
       "    <tr style=\"text-align: right;\">\n",
       "      <th></th>\n",
       "      <th>Area</th>\n",
       "      <th>Room</th>\n",
       "      <th>Parking</th>\n",
       "      <th>Warehouse</th>\n",
       "      <th>Elevator</th>\n",
       "      <th>Address</th>\n",
       "      <th>Price</th>\n",
       "      <th>Price(USD)</th>\n",
       "    </tr>\n",
       "  </thead>\n",
       "  <tbody>\n",
       "    <tr>\n",
       "      <th>2171</th>\n",
       "      <td>3,600</td>\n",
       "      <td>2</td>\n",
       "      <td>False</td>\n",
       "      <td>False</td>\n",
       "      <td>False</td>\n",
       "      <td>Shahryar</td>\n",
       "      <td>9,720,000,000</td>\n",
       "      <td>324,000</td>\n",
       "    </tr>\n",
       "    <tr>\n",
       "      <th>807</th>\n",
       "      <td>1,000</td>\n",
       "      <td>2</td>\n",
       "      <td>True</td>\n",
       "      <td>True</td>\n",
       "      <td>False</td>\n",
       "      <td>Damavand</td>\n",
       "      <td>7,000,000,000</td>\n",
       "      <td>233,333</td>\n",
       "    </tr>\n",
       "    <tr>\n",
       "      <th>1694</th>\n",
       "      <td>929</td>\n",
       "      <td>5</td>\n",
       "      <td>True</td>\n",
       "      <td>True</td>\n",
       "      <td>False</td>\n",
       "      <td>Zafar</td>\n",
       "      <td>80,000,000,000</td>\n",
       "      <td>2,666,667</td>\n",
       "    </tr>\n",
       "    <tr>\n",
       "      <th>1974</th>\n",
       "      <td>900</td>\n",
       "      <td>3</td>\n",
       "      <td>True</td>\n",
       "      <td>True</td>\n",
       "      <td>False</td>\n",
       "      <td>Damavand</td>\n",
       "      <td>8,500,000,000</td>\n",
       "      <td>283,333</td>\n",
       "    </tr>\n",
       "    <tr>\n",
       "      <th>573</th>\n",
       "      <td>863</td>\n",
       "      <td>2</td>\n",
       "      <td>True</td>\n",
       "      <td>True</td>\n",
       "      <td>True</td>\n",
       "      <td>Gheitarieh</td>\n",
       "      <td>7,830,000,000</td>\n",
       "      <td>261,000</td>\n",
       "    </tr>\n",
       "    <tr>\n",
       "      <th>831</th>\n",
       "      <td>750</td>\n",
       "      <td>5</td>\n",
       "      <td>True</td>\n",
       "      <td>True</td>\n",
       "      <td>True</td>\n",
       "      <td>Mahmoudieh</td>\n",
       "      <td>75,000,000,000</td>\n",
       "      <td>2,500,000</td>\n",
       "    </tr>\n",
       "    <tr>\n",
       "      <th>3115</th>\n",
       "      <td>750</td>\n",
       "      <td>5</td>\n",
       "      <td>True</td>\n",
       "      <td>True</td>\n",
       "      <td>False</td>\n",
       "      <td>Varamin - Beheshti</td>\n",
       "      <td>3,500,000,000</td>\n",
       "      <td>116,667</td>\n",
       "    </tr>\n",
       "    <tr>\n",
       "      <th>1810</th>\n",
       "      <td>705</td>\n",
       "      <td>5</td>\n",
       "      <td>True</td>\n",
       "      <td>True</td>\n",
       "      <td>False</td>\n",
       "      <td>Abazar</td>\n",
       "      <td>91,000,000,000</td>\n",
       "      <td>3,033,333</td>\n",
       "    </tr>\n",
       "    <tr>\n",
       "      <th>2481</th>\n",
       "      <td>700</td>\n",
       "      <td>3</td>\n",
       "      <td>True</td>\n",
       "      <td>True</td>\n",
       "      <td>False</td>\n",
       "      <td>Damavand</td>\n",
       "      <td>4,500,000,000</td>\n",
       "      <td>150,000</td>\n",
       "    </tr>\n",
       "  </tbody>\n",
       "</table>\n",
       "</div>"
      ],
      "text/plain": [
       "      Area  Room  Parking  Warehouse  Elevator             Address  \\\n",
       "2171 3,600     2    False      False     False            Shahryar   \n",
       "807  1,000     2     True       True     False            Damavand   \n",
       "1694   929     5     True       True     False               Zafar   \n",
       "1974   900     3     True       True     False            Damavand   \n",
       "573    863     2     True       True      True          Gheitarieh   \n",
       "831    750     5     True       True      True          Mahmoudieh   \n",
       "3115   750     5     True       True     False  Varamin - Beheshti   \n",
       "1810   705     5     True       True     False              Abazar   \n",
       "2481   700     3     True       True     False            Damavand   \n",
       "\n",
       "              Price  Price(USD)  \n",
       "2171  9,720,000,000     324,000  \n",
       "807   7,000,000,000     233,333  \n",
       "1694 80,000,000,000   2,666,667  \n",
       "1974  8,500,000,000     283,333  \n",
       "573   7,830,000,000     261,000  \n",
       "831  75,000,000,000   2,500,000  \n",
       "3115  3,500,000,000     116,667  \n",
       "1810 91,000,000,000   3,033,333  \n",
       "2481  4,500,000,000     150,000  "
      ]
     },
     "execution_count": 13,
     "metadata": {},
     "output_type": "execute_result"
    }
   ],
   "source": [
    "df.sort_values(by='Area', ascending=False).head(9)"
   ]
  },
  {
   "cell_type": "markdown",
   "id": "e2fa1819",
   "metadata": {},
   "source": [
    "Now let's check if there is any missing value:"
   ]
  },
  {
   "cell_type": "code",
   "execution_count": 14,
   "id": "76bf9598",
   "metadata": {
    "scrolled": false
   },
   "outputs": [
    {
     "data": {
      "text/plain": [
       "Area           0\n",
       "Room           0\n",
       "Parking        0\n",
       "Warehouse      0\n",
       "Elevator       0\n",
       "Address       23\n",
       "Price          0\n",
       "Price(USD)     0\n",
       "dtype: int64"
      ]
     },
     "execution_count": 14,
     "metadata": {},
     "output_type": "execute_result"
    }
   ],
   "source": [
    "df.isna().sum() "
   ]
  },
  {
   "cell_type": "markdown",
   "id": "caf0c0d1",
   "metadata": {},
   "source": [
    "We are missing 23 addresses. We can fill them by, for example, the address that repeated more than others but based on the data we have, I don't think that will be accurate. So since there are only 23 missing values, I prefer to drop them from the dataset. I will still have 3452 rows to work with."
   ]
  },
  {
   "cell_type": "code",
   "execution_count": 15,
   "id": "a0fd40a3",
   "metadata": {},
   "outputs": [
    {
     "name": "stdout",
     "output_type": "stream",
     "text": [
      "(3452, 8)\n"
     ]
    }
   ],
   "source": [
    "df = df.dropna()\n",
    "print(df.shape)"
   ]
  },
  {
   "cell_type": "markdown",
   "id": "1d8b104b",
   "metadata": {},
   "source": [
    "Now let's do some visualization to see if we can find anything interesting on the plots:\n"
   ]
  },
  {
   "cell_type": "code",
   "execution_count": 16,
   "id": "75a21fb5",
   "metadata": {},
   "outputs": [
    {
     "data": {
      "image/png": "[encoded data removed]",
      "text/plain": [
       "<Figure size 1080x720 with 2 Axes>"
      ]
     },
     "metadata": {
      "needs_background": "light"
     },
     "output_type": "display_data"
    }
   ],
   "source": [
    "fig0, (ax1,ax2) = plt.subplots(1,2, figsize=(15,10))\n",
    "\n",
    "ax1.hist(df[\"Room\"])\n",
    "ax2.ticklabel_format(useOffset=False, style='plain')\n",
    "\n",
    "ax2.hist(df[\"Price(USD)\"])\n",
    "ax2.ticklabel_format(useOffset=False, style='plain')\n",
    "plt.show()"
   ]
  },
  {
   "cell_type": "code",
   "execution_count": 17,
   "id": "67a5deb7",
   "metadata": {},
   "outputs": [
    {
     "name": "stdout",
     "output_type": "stream",
     "text": [
      "True     2925\n",
      "False     527\n",
      "Name: Parking, dtype: int64\n",
      " \n",
      "True     3158\n",
      "False     294\n",
      "Name: Warehouse, dtype: int64\n",
      " \n",
      "True     2717\n",
      "False     735\n",
      "Name: Elevator, dtype: int64\n"
     ]
    }
   ],
   "source": [
    "Parking = df['Parking'].value_counts()\n",
    "print(Parking)\n",
    "print(' ')\n",
    "\n",
    "Warehouse = df['Warehouse'].value_counts()\n",
    "print(Warehouse)\n",
    "print(' ')\n",
    "\n",
    "Elevator = df['Elevator'].value_counts()\n",
    "print(Elevator)\n"
   ]
  },
  {
   "cell_type": "code",
   "execution_count": 18,
   "id": "478a34cf",
   "metadata": {},
   "outputs": [
    {
     "data": {
      "image/png": "[encoded data removed]",
      "text/plain": [
       "<Figure size 1080x1080 with 3 Axes>"
      ]
     },
     "metadata": {},
     "output_type": "display_data"
    }
   ],
   "source": [
    "fig1, (ax1,ax2,ax3) = plt.subplots(1,3, figsize=(15,15)) \n",
    "\n",
    "labels = 'True', 'False'\n",
    "ax1.pie([Parking[1], Parking[0]], labels=labels, autopct='%1.1f%%',\n",
    "        shadow=False, startangle=90)\n",
    "ax1.set_title(\"Parking\")\n",
    "\n",
    "labels = 'True', 'False'\n",
    "ax2.pie([Warehouse[1], Warehouse[0]], labels=labels, autopct='%1.1f%%',\n",
    "        shadow=False, startangle=90)\n",
    "ax2.set_title(\"Warehouse\")\n",
    "\n",
    "labels = 'True', 'False'\n",
    "ax3.pie([Elevator[1], Elevator[0]], labels=labels, autopct='%1.1f%%',\n",
    "        shadow=False, startangle=90)\n",
    "ax3.set_title(\"Elevator\")\n",
    "\n",
    "plt.show()"
   ]
  },
  {
   "cell_type": "code",
   "execution_count": 19,
   "id": "f5e2b671",
   "metadata": {
    "scrolled": false
   },
   "outputs": [
    {
     "data": {
      "image/png": "[encoded data removed]",
      "text/plain": [
       "<Figure size 432x288 with 1 Axes>"
      ]
     },
     "metadata": {
      "needs_background": "light"
     },
     "output_type": "display_data"
    }
   ],
   "source": [
    "plt.scatter(df['Room'], df['Price(USD)'],  color='blue')\n",
    "plt.xlabel(\"Number of Rooms\")\n",
    "plt.ylabel(\"Price(USD)\")\n",
    "plt.ticklabel_format(useOffset=False, style='plain')\n",
    "plt.show()"
   ]
  },
  {
   "cell_type": "markdown",
   "id": "1a7e4094",
   "metadata": {},
   "source": [
    "It looks like that the more expensive houses have more rooms which makes sense. But there is a very expensive house with no bedrooms lets check it out:"
   ]
  },
  {
   "cell_type": "code",
   "execution_count": 20,
   "id": "309e858b",
   "metadata": {
    "scrolled": true
   },
   "outputs": [
    {
     "data": {
      "text/html": [
       "<div>\n",
       "<style scoped>\n",
       "    .dataframe tbody tr th:only-of-type {\n",
       "        vertical-align: middle;\n",
       "    }\n",
       "\n",
       "    .dataframe tbody tr th {\n",
       "        vertical-align: top;\n",
       "    }\n",
       "\n",
       "    .dataframe thead th {\n",
       "        text-align: right;\n",
       "    }\n",
       "</style>\n",
       "<table border=\"1\" class=\"dataframe\">\n",
       "  <thead>\n",
       "    <tr style=\"text-align: right;\">\n",
       "      <th></th>\n",
       "      <th>Area</th>\n",
       "      <th>Room</th>\n",
       "      <th>Parking</th>\n",
       "      <th>Warehouse</th>\n",
       "      <th>Elevator</th>\n",
       "      <th>Address</th>\n",
       "      <th>Price</th>\n",
       "      <th>Price(USD)</th>\n",
       "    </tr>\n",
       "  </thead>\n",
       "  <tbody>\n",
       "    <tr>\n",
       "      <th>3107</th>\n",
       "      <td>630</td>\n",
       "      <td>0</td>\n",
       "      <td>False</td>\n",
       "      <td>False</td>\n",
       "      <td>False</td>\n",
       "      <td>Tajrish</td>\n",
       "      <td>75,600,000,000</td>\n",
       "      <td>2,520,000</td>\n",
       "    </tr>\n",
       "  </tbody>\n",
       "</table>\n",
       "</div>"
      ],
      "text/plain": [
       "      Area  Room  Parking  Warehouse  Elevator  Address          Price  \\\n",
       "3107   630     0    False      False     False  Tajrish 75,600,000,000   \n",
       "\n",
       "      Price(USD)  \n",
       "3107   2,520,000  "
      ]
     },
     "execution_count": 20,
     "metadata": {},
     "output_type": "execute_result"
    }
   ],
   "source": [
    "df[(df['Room']== 0) & (df['Price(USD)']> 2000000)]"
   ]
  },
  {
   "cell_type": "markdown",
   "id": "f72e8dff",
   "metadata": {},
   "source": [
    "Well, it's a large house in uptown, so it makes sense to me that it is expensive, but the weird thing is that a place this big has no bedrooms and not even a warehouse !! I think it's an outlier. Let's check the other houses at the same address:"
   ]
  },
  {
   "cell_type": "code",
   "execution_count": 21,
   "id": "1d9f00ab",
   "metadata": {},
   "outputs": [
    {
     "data": {
      "text/html": [
       "<div>\n",
       "<style scoped>\n",
       "    .dataframe tbody tr th:only-of-type {\n",
       "        vertical-align: middle;\n",
       "    }\n",
       "\n",
       "    .dataframe tbody tr th {\n",
       "        vertical-align: top;\n",
       "    }\n",
       "\n",
       "    .dataframe thead th {\n",
       "        text-align: right;\n",
       "    }\n",
       "</style>\n",
       "<table border=\"1\" class=\"dataframe\">\n",
       "  <thead>\n",
       "    <tr style=\"text-align: right;\">\n",
       "      <th></th>\n",
       "      <th>Area</th>\n",
       "      <th>Room</th>\n",
       "      <th>Parking</th>\n",
       "      <th>Warehouse</th>\n",
       "      <th>Elevator</th>\n",
       "      <th>Address</th>\n",
       "      <th>Price</th>\n",
       "      <th>Price(USD)</th>\n",
       "    </tr>\n",
       "  </thead>\n",
       "  <tbody>\n",
       "    <tr>\n",
       "      <th>355</th>\n",
       "      <td>110</td>\n",
       "      <td>2</td>\n",
       "      <td>True</td>\n",
       "      <td>True</td>\n",
       "      <td>True</td>\n",
       "      <td>Tajrish</td>\n",
       "      <td>6,600,000,000</td>\n",
       "      <td>220,000</td>\n",
       "    </tr>\n",
       "    <tr>\n",
       "      <th>1148</th>\n",
       "      <td>115</td>\n",
       "      <td>2</td>\n",
       "      <td>True</td>\n",
       "      <td>True</td>\n",
       "      <td>True</td>\n",
       "      <td>Tajrish</td>\n",
       "      <td>8,200,000,000</td>\n",
       "      <td>273,333</td>\n",
       "    </tr>\n",
       "    <tr>\n",
       "      <th>2584</th>\n",
       "      <td>300</td>\n",
       "      <td>4</td>\n",
       "      <td>True</td>\n",
       "      <td>True</td>\n",
       "      <td>True</td>\n",
       "      <td>Tajrish</td>\n",
       "      <td>9,000,000,000</td>\n",
       "      <td>300,000</td>\n",
       "    </tr>\n",
       "    <tr>\n",
       "      <th>2769</th>\n",
       "      <td>100</td>\n",
       "      <td>2</td>\n",
       "      <td>True</td>\n",
       "      <td>True</td>\n",
       "      <td>True</td>\n",
       "      <td>Tajrish</td>\n",
       "      <td>5,700,000,000</td>\n",
       "      <td>190,000</td>\n",
       "    </tr>\n",
       "    <tr>\n",
       "      <th>2831</th>\n",
       "      <td>100</td>\n",
       "      <td>2</td>\n",
       "      <td>True</td>\n",
       "      <td>True</td>\n",
       "      <td>True</td>\n",
       "      <td>Tajrish</td>\n",
       "      <td>5,700,000,000</td>\n",
       "      <td>190,000</td>\n",
       "    </tr>\n",
       "    <tr>\n",
       "      <th>3096</th>\n",
       "      <td>150</td>\n",
       "      <td>3</td>\n",
       "      <td>True</td>\n",
       "      <td>True</td>\n",
       "      <td>True</td>\n",
       "      <td>Tajrish</td>\n",
       "      <td>12,750,000,000</td>\n",
       "      <td>425,000</td>\n",
       "    </tr>\n",
       "    <tr>\n",
       "      <th>3107</th>\n",
       "      <td>630</td>\n",
       "      <td>0</td>\n",
       "      <td>False</td>\n",
       "      <td>False</td>\n",
       "      <td>False</td>\n",
       "      <td>Tajrish</td>\n",
       "      <td>75,600,000,000</td>\n",
       "      <td>2,520,000</td>\n",
       "    </tr>\n",
       "  </tbody>\n",
       "</table>\n",
       "</div>"
      ],
      "text/plain": [
       "      Area  Room  Parking  Warehouse  Elevator  Address          Price  \\\n",
       "355    110     2     True       True      True  Tajrish  6,600,000,000   \n",
       "1148   115     2     True       True      True  Tajrish  8,200,000,000   \n",
       "2584   300     4     True       True      True  Tajrish  9,000,000,000   \n",
       "2769   100     2     True       True      True  Tajrish  5,700,000,000   \n",
       "2831   100     2     True       True      True  Tajrish  5,700,000,000   \n",
       "3096   150     3     True       True      True  Tajrish 12,750,000,000   \n",
       "3107   630     0    False      False     False  Tajrish 75,600,000,000   \n",
       "\n",
       "      Price(USD)  \n",
       "355      220,000  \n",
       "1148     273,333  \n",
       "2584     300,000  \n",
       "2769     190,000  \n",
       "2831     190,000  \n",
       "3096     425,000  \n",
       "3107   2,520,000  "
      ]
     },
     "execution_count": 21,
     "metadata": {},
     "output_type": "execute_result"
    }
   ],
   "source": [
    "df[df['Address']== 'Tajrish']"
   ]
  },
  {
   "cell_type": "markdown",
   "id": "2a354830",
   "metadata": {},
   "source": [
    "Well seems an outlier to me! Maybe the data for the warehouse or number of rooms is wrong, or it's just land and not an apartment. But since we don't have access to the data source to check it out and the price makes sense based on the area, I'm not going to drop it from the dataset."
   ]
  },
  {
   "cell_type": "code",
   "execution_count": 22,
   "id": "0566949d",
   "metadata": {
    "scrolled": true
   },
   "outputs": [
    {
     "data": {
      "image/png": "[encoded data removed]",
      "text/plain": [
       "<Figure size 432x288 with 1 Axes>"
      ]
     },
     "metadata": {
      "needs_background": "light"
     },
     "output_type": "display_data"
    }
   ],
   "source": [
    "plt.scatter(df['Area'], df['Price(USD)'],  color='blue')\n",
    "plt.xlabel(\"Area\")\n",
    "plt.ylabel(\"Price\")\n",
    "plt.ticklabel_format(useOffset=False, style='plain')\n",
    "plt.show()"
   ]
  },
  {
   "cell_type": "markdown",
   "id": "f46594b3",
   "metadata": {},
   "source": [
    "As we see in the scatterplot, the price rises as the area go up, which of course, is reasonable. I think we have another outlier here, the blue point on the right side of the plot has a great area, but it's not much expensive; let's check it out:"
   ]
  },
  {
   "cell_type": "code",
   "execution_count": 23,
   "id": "3e738d12",
   "metadata": {},
   "outputs": [
    {
     "data": {
      "text/html": [
       "<div>\n",
       "<style scoped>\n",
       "    .dataframe tbody tr th:only-of-type {\n",
       "        vertical-align: middle;\n",
       "    }\n",
       "\n",
       "    .dataframe tbody tr th {\n",
       "        vertical-align: top;\n",
       "    }\n",
       "\n",
       "    .dataframe thead th {\n",
       "        text-align: right;\n",
       "    }\n",
       "</style>\n",
       "<table border=\"1\" class=\"dataframe\">\n",
       "  <thead>\n",
       "    <tr style=\"text-align: right;\">\n",
       "      <th></th>\n",
       "      <th>Area</th>\n",
       "      <th>Room</th>\n",
       "      <th>Parking</th>\n",
       "      <th>Warehouse</th>\n",
       "      <th>Elevator</th>\n",
       "      <th>Address</th>\n",
       "      <th>Price</th>\n",
       "      <th>Price(USD)</th>\n",
       "    </tr>\n",
       "  </thead>\n",
       "  <tbody>\n",
       "    <tr>\n",
       "      <th>2171</th>\n",
       "      <td>3,600</td>\n",
       "      <td>2</td>\n",
       "      <td>False</td>\n",
       "      <td>False</td>\n",
       "      <td>False</td>\n",
       "      <td>Shahryar</td>\n",
       "      <td>9,720,000,000</td>\n",
       "      <td>324,000</td>\n",
       "    </tr>\n",
       "  </tbody>\n",
       "</table>\n",
       "</div>"
      ],
      "text/plain": [
       "      Area  Room  Parking  Warehouse  Elevator   Address         Price  \\\n",
       "2171 3,600     2    False      False     False  Shahryar 9,720,000,000   \n",
       "\n",
       "      Price(USD)  \n",
       "2171     324,000  "
      ]
     },
     "execution_count": 23,
     "metadata": {},
     "output_type": "execute_result"
    }
   ],
   "source": [
    "df[df['Area']>3500]"
   ]
  },
  {
   "cell_type": "markdown",
   "id": "8f7f13ef",
   "metadata": {},
   "source": [
    "The place is in the suburb of Tehran, so the price makes sense.The address of a place is an essential factor that affects the price, so let's check how many unique addresses we have and which ones are repeated more in our dataset."
   ]
  },
  {
   "cell_type": "code",
   "execution_count": 24,
   "id": "b7d45c38",
   "metadata": {},
   "outputs": [
    {
     "name": "stdout",
     "output_type": "stream",
     "text": [
      "(192,)\n"
     ]
    },
    {
     "data": {
      "text/plain": [
       "Punak                     161\n",
       "Pardis                    146\n",
       "West Ferdows Boulevard    145\n",
       "Gheitarieh                140\n",
       "Shahran                   130\n",
       "                         ... \n",
       "Chardangeh                  1\n",
       "Mehrabad                    1\n",
       "Pakdasht KhatunAbad         1\n",
       "Kazemabad                   1\n",
       "Yakhchiabad                 1\n",
       "Name: Address, Length: 192, dtype: int64"
      ]
     },
     "execution_count": 24,
     "metadata": {},
     "output_type": "execute_result"
    }
   ],
   "source": [
    "print(df['Address'].value_counts().shape)\n",
    "df['Address'].value_counts()"
   ]
  },
  {
   "cell_type": "code",
   "execution_count": 25,
   "id": "5cd2f526",
   "metadata": {
    "scrolled": true
   },
   "outputs": [
    {
     "data": {
      "text/html": [
       "<div>\n",
       "<style scoped>\n",
       "    .dataframe tbody tr th:only-of-type {\n",
       "        vertical-align: middle;\n",
       "    }\n",
       "\n",
       "    .dataframe tbody tr th {\n",
       "        vertical-align: top;\n",
       "    }\n",
       "\n",
       "    .dataframe thead th {\n",
       "        text-align: right;\n",
       "    }\n",
       "</style>\n",
       "<table border=\"1\" class=\"dataframe\">\n",
       "  <thead>\n",
       "    <tr style=\"text-align: right;\">\n",
       "      <th></th>\n",
       "      <th>Area</th>\n",
       "      <th>Room</th>\n",
       "      <th>Parking</th>\n",
       "      <th>Warehouse</th>\n",
       "      <th>Elevator</th>\n",
       "      <th>Address</th>\n",
       "      <th>Price</th>\n",
       "      <th>Price(USD)</th>\n",
       "    </tr>\n",
       "  </thead>\n",
       "  <tbody>\n",
       "    <tr>\n",
       "      <th>1707</th>\n",
       "      <td>420</td>\n",
       "      <td>4</td>\n",
       "      <td>True</td>\n",
       "      <td>True</td>\n",
       "      <td>True</td>\n",
       "      <td>Zaferanieh</td>\n",
       "      <td>92,400,000,000</td>\n",
       "      <td>3,080,000</td>\n",
       "    </tr>\n",
       "    <tr>\n",
       "      <th>1810</th>\n",
       "      <td>705</td>\n",
       "      <td>5</td>\n",
       "      <td>True</td>\n",
       "      <td>True</td>\n",
       "      <td>False</td>\n",
       "      <td>Abazar</td>\n",
       "      <td>91,000,000,000</td>\n",
       "      <td>3,033,333</td>\n",
       "    </tr>\n",
       "    <tr>\n",
       "      <th>430</th>\n",
       "      <td>400</td>\n",
       "      <td>5</td>\n",
       "      <td>True</td>\n",
       "      <td>True</td>\n",
       "      <td>False</td>\n",
       "      <td>Lavasan</td>\n",
       "      <td>85,000,000,000</td>\n",
       "      <td>2,833,333</td>\n",
       "    </tr>\n",
       "    <tr>\n",
       "      <th>819</th>\n",
       "      <td>680</td>\n",
       "      <td>5</td>\n",
       "      <td>True</td>\n",
       "      <td>True</td>\n",
       "      <td>False</td>\n",
       "      <td>Ekhtiarieh</td>\n",
       "      <td>81,600,000,000</td>\n",
       "      <td>2,720,000</td>\n",
       "    </tr>\n",
       "    <tr>\n",
       "      <th>1332</th>\n",
       "      <td>350</td>\n",
       "      <td>4</td>\n",
       "      <td>True</td>\n",
       "      <td>True</td>\n",
       "      <td>True</td>\n",
       "      <td>Niavaran</td>\n",
       "      <td>80,500,000,000</td>\n",
       "      <td>2,683,333</td>\n",
       "    </tr>\n",
       "    <tr>\n",
       "      <th>1694</th>\n",
       "      <td>929</td>\n",
       "      <td>5</td>\n",
       "      <td>True</td>\n",
       "      <td>True</td>\n",
       "      <td>False</td>\n",
       "      <td>Zafar</td>\n",
       "      <td>80,000,000,000</td>\n",
       "      <td>2,666,667</td>\n",
       "    </tr>\n",
       "    <tr>\n",
       "      <th>3051</th>\n",
       "      <td>530</td>\n",
       "      <td>4</td>\n",
       "      <td>True</td>\n",
       "      <td>True</td>\n",
       "      <td>True</td>\n",
       "      <td>Dorous</td>\n",
       "      <td>79,500,000,000</td>\n",
       "      <td>2,650,000</td>\n",
       "    </tr>\n",
       "    <tr>\n",
       "      <th>3107</th>\n",
       "      <td>630</td>\n",
       "      <td>0</td>\n",
       "      <td>False</td>\n",
       "      <td>False</td>\n",
       "      <td>False</td>\n",
       "      <td>Tajrish</td>\n",
       "      <td>75,600,000,000</td>\n",
       "      <td>2,520,000</td>\n",
       "    </tr>\n",
       "    <tr>\n",
       "      <th>831</th>\n",
       "      <td>750</td>\n",
       "      <td>5</td>\n",
       "      <td>True</td>\n",
       "      <td>True</td>\n",
       "      <td>True</td>\n",
       "      <td>Mahmoudieh</td>\n",
       "      <td>75,000,000,000</td>\n",
       "      <td>2,500,000</td>\n",
       "    </tr>\n",
       "  </tbody>\n",
       "</table>\n",
       "</div>"
      ],
      "text/plain": [
       "      Area  Room  Parking  Warehouse  Elevator     Address          Price  \\\n",
       "1707   420     4     True       True      True  Zaferanieh 92,400,000,000   \n",
       "1810   705     5     True       True     False      Abazar 91,000,000,000   \n",
       "430    400     5     True       True     False     Lavasan 85,000,000,000   \n",
       "819    680     5     True       True     False  Ekhtiarieh 81,600,000,000   \n",
       "1332   350     4     True       True      True    Niavaran 80,500,000,000   \n",
       "1694   929     5     True       True     False       Zafar 80,000,000,000   \n",
       "3051   530     4     True       True      True      Dorous 79,500,000,000   \n",
       "3107   630     0    False      False     False     Tajrish 75,600,000,000   \n",
       "831    750     5     True       True      True  Mahmoudieh 75,000,000,000   \n",
       "\n",
       "      Price(USD)  \n",
       "1707   3,080,000  \n",
       "1810   3,033,333  \n",
       "430    2,833,333  \n",
       "819    2,720,000  \n",
       "1332   2,683,333  \n",
       "1694   2,666,667  \n",
       "3051   2,650,000  \n",
       "3107   2,520,000  \n",
       "831    2,500,000  "
      ]
     },
     "execution_count": 25,
     "metadata": {},
     "output_type": "execute_result"
    }
   ],
   "source": [
    "df.sort_values(by='Price', ascending=False).head(9)"
   ]
  },
  {
   "cell_type": "markdown",
   "id": "d29d6f74",
   "metadata": {},
   "source": [
    "# Training Price Prediction Models\n",
    "\n",
    "Now that we explored our data and have come to a better comprehension of the dataset's characteristics, it's time to train some model for price prediction. First, I will use linear Regression, and then I will use the KNN regressor and compare these two models."
   ]
  },
  {
   "cell_type": "markdown",
   "id": "f344bc50",
   "metadata": {},
   "source": [
    "## Regression\n",
    "\n",
    "In order to use regression, we need to transform our categorical Data into numerical ones:"
   ]
  },
  {
   "cell_type": "code",
   "execution_count": 26,
   "id": "7211f682",
   "metadata": {
    "scrolled": false
   },
   "outputs": [],
   "source": [
    "from sklearn.preprocessing import LabelEncoder\n",
    "encoder = LabelEncoder() \n",
    "\n",
    "df2 = df\n",
    "\n",
    "for i in df2.columns: \n",
    "    if df2[i].dtype == 'object':\n",
    "        encoder.fit_transform(list(df2[i].values))\n",
    "        df2[i] = encoder.transform(df2[i].values)\n",
    "        "
   ]
  },
  {
   "cell_type": "code",
   "execution_count": 27,
   "id": "368713ac",
   "metadata": {},
   "outputs": [
    {
     "data": {
      "text/html": [
       "<div>\n",
       "<style scoped>\n",
       "    .dataframe tbody tr th:only-of-type {\n",
       "        vertical-align: middle;\n",
       "    }\n",
       "\n",
       "    .dataframe tbody tr th {\n",
       "        vertical-align: top;\n",
       "    }\n",
       "\n",
       "    .dataframe thead th {\n",
       "        text-align: right;\n",
       "    }\n",
       "</style>\n",
       "<table border=\"1\" class=\"dataframe\">\n",
       "  <thead>\n",
       "    <tr style=\"text-align: right;\">\n",
       "      <th></th>\n",
       "      <th>Area</th>\n",
       "      <th>Room</th>\n",
       "      <th>Parking</th>\n",
       "      <th>Warehouse</th>\n",
       "      <th>Elevator</th>\n",
       "      <th>Address</th>\n",
       "      <th>Price</th>\n",
       "      <th>Price(USD)</th>\n",
       "    </tr>\n",
       "  </thead>\n",
       "  <tbody>\n",
       "    <tr>\n",
       "      <th>0</th>\n",
       "      <td>63</td>\n",
       "      <td>1</td>\n",
       "      <td>True</td>\n",
       "      <td>True</td>\n",
       "      <td>True</td>\n",
       "      <td>156</td>\n",
       "      <td>1,850,000,000</td>\n",
       "      <td>61,667</td>\n",
       "    </tr>\n",
       "    <tr>\n",
       "      <th>1</th>\n",
       "      <td>60</td>\n",
       "      <td>1</td>\n",
       "      <td>True</td>\n",
       "      <td>True</td>\n",
       "      <td>True</td>\n",
       "      <td>156</td>\n",
       "      <td>1,850,000,000</td>\n",
       "      <td>61,667</td>\n",
       "    </tr>\n",
       "    <tr>\n",
       "      <th>2</th>\n",
       "      <td>79</td>\n",
       "      <td>2</td>\n",
       "      <td>True</td>\n",
       "      <td>True</td>\n",
       "      <td>True</td>\n",
       "      <td>117</td>\n",
       "      <td>550,000,000</td>\n",
       "      <td>18,333</td>\n",
       "    </tr>\n",
       "    <tr>\n",
       "      <th>3</th>\n",
       "      <td>95</td>\n",
       "      <td>2</td>\n",
       "      <td>True</td>\n",
       "      <td>True</td>\n",
       "      <td>True</td>\n",
       "      <td>152</td>\n",
       "      <td>902,500,000</td>\n",
       "      <td>30,083</td>\n",
       "    </tr>\n",
       "    <tr>\n",
       "      <th>4</th>\n",
       "      <td>123</td>\n",
       "      <td>2</td>\n",
       "      <td>True</td>\n",
       "      <td>True</td>\n",
       "      <td>True</td>\n",
       "      <td>150</td>\n",
       "      <td>7,000,000,000</td>\n",
       "      <td>233,333</td>\n",
       "    </tr>\n",
       "    <tr>\n",
       "      <th>5</th>\n",
       "      <td>70</td>\n",
       "      <td>2</td>\n",
       "      <td>True</td>\n",
       "      <td>True</td>\n",
       "      <td>False</td>\n",
       "      <td>106</td>\n",
       "      <td>2,050,000,000</td>\n",
       "      <td>68,333</td>\n",
       "    </tr>\n",
       "    <tr>\n",
       "      <th>6</th>\n",
       "      <td>87</td>\n",
       "      <td>2</td>\n",
       "      <td>True</td>\n",
       "      <td>True</td>\n",
       "      <td>True</td>\n",
       "      <td>117</td>\n",
       "      <td>600,000,000</td>\n",
       "      <td>20,000</td>\n",
       "    </tr>\n",
       "    <tr>\n",
       "      <th>7</th>\n",
       "      <td>59</td>\n",
       "      <td>1</td>\n",
       "      <td>True</td>\n",
       "      <td>True</td>\n",
       "      <td>True</td>\n",
       "      <td>156</td>\n",
       "      <td>2,150,000,000</td>\n",
       "      <td>71,667</td>\n",
       "    </tr>\n",
       "    <tr>\n",
       "      <th>8</th>\n",
       "      <td>54</td>\n",
       "      <td>2</td>\n",
       "      <td>True</td>\n",
       "      <td>True</td>\n",
       "      <td>False</td>\n",
       "      <td>13</td>\n",
       "      <td>493,000,000</td>\n",
       "      <td>16,433</td>\n",
       "    </tr>\n",
       "    <tr>\n",
       "      <th>9</th>\n",
       "      <td>71</td>\n",
       "      <td>1</td>\n",
       "      <td>True</td>\n",
       "      <td>True</td>\n",
       "      <td>True</td>\n",
       "      <td>183</td>\n",
       "      <td>2,370,000,000</td>\n",
       "      <td>79,000</td>\n",
       "    </tr>\n",
       "  </tbody>\n",
       "</table>\n",
       "</div>"
      ],
      "text/plain": [
       "   Area  Room  Parking  Warehouse  Elevator  Address         Price  Price(USD)\n",
       "0    63     1     True       True      True      156 1,850,000,000      61,667\n",
       "1    60     1     True       True      True      156 1,850,000,000      61,667\n",
       "2    79     2     True       True      True      117   550,000,000      18,333\n",
       "3    95     2     True       True      True      152   902,500,000      30,083\n",
       "4   123     2     True       True      True      150 7,000,000,000     233,333\n",
       "5    70     2     True       True     False      106 2,050,000,000      68,333\n",
       "6    87     2     True       True      True      117   600,000,000      20,000\n",
       "7    59     1     True       True      True      156 2,150,000,000      71,667\n",
       "8    54     2     True       True     False       13   493,000,000      16,433\n",
       "9    71     1     True       True      True      183 2,370,000,000      79,000"
      ]
     },
     "execution_count": 27,
     "metadata": {},
     "output_type": "execute_result"
    }
   ],
   "source": [
    "df2.head(10)"
   ]
  },
  {
   "cell_type": "markdown",
   "id": "55f9db13",
   "metadata": {},
   "source": [
    "Let's define our independent variables and our Response variable:"
   ]
  },
  {
   "cell_type": "code",
   "execution_count": 28,
   "id": "72475366",
   "metadata": {},
   "outputs": [],
   "source": [
    "X = np.asanyarray(df[['Area','Room','Parking','Warehouse','Elevator','Address']])\n",
    "# X = np.asanyarray(df[['Area','Room']])\n",
    "# X = np.asanyarray(df[['Area']])\n",
    "# X = np.asanyarray(df[['Address']])\n",
    "y = np.asanyarray(df[['Price(USD)']])"
   ]
  },
  {
   "cell_type": "markdown",
   "id": "2eb6109c",
   "metadata": {},
   "source": [
    "Splitting the dataset into train and test sets:"
   ]
  },
  {
   "cell_type": "code",
   "execution_count": 29,
   "id": "e7289809",
   "metadata": {},
   "outputs": [
    {
     "name": "stdout",
     "output_type": "stream",
     "text": [
      "Train set: (2761, 6) (2761, 1)\n",
      "Test set: (691, 6) (691, 1)\n"
     ]
    }
   ],
   "source": [
    "from sklearn.model_selection import train_test_split\n",
    "\n",
    "X_train, X_test, y_train, y_test = train_test_split( X, y, test_size=0.2, random_state=4)\n",
    "print ('Train set:', X_train.shape,  y_train.shape)\n",
    "print ('Test set:', X_test.shape,  y_test.shape)"
   ]
  },
  {
   "cell_type": "markdown",
   "id": "cc37a376",
   "metadata": {},
   "source": [
    "Fitting a Linear Regression Model:"
   ]
  },
  {
   "cell_type": "code",
   "execution_count": 30,
   "id": "820901d7",
   "metadata": {},
   "outputs": [
    {
     "data": {
      "text/plain": [
       "LinearRegression()"
      ]
     },
     "execution_count": 30,
     "metadata": {},
     "output_type": "execute_result"
    }
   ],
   "source": [
    "from sklearn.linear_model import LinearRegression\n",
    "lrmodel = LinearRegression()\n",
    "lrmodel.fit(X_train,y_train)"
   ]
  },
  {
   "cell_type": "code",
   "execution_count": 31,
   "id": "c19b4e82",
   "metadata": {
    "scrolled": true
   },
   "outputs": [
    {
     "name": "stdout",
     "output_type": "stream",
     "text": [
      "Coefficients:  [[ 2.16382422e+03  5.68748998e+04 -3.85530222e+03  3.14619432e+04\n",
      "   3.74209355e+04  5.05460728e+01]]\n",
      "Intercept:  [-233453.83029588]\n"
     ]
    }
   ],
   "source": [
    "print ('Coefficients: ', lrmodel.coef_)\n",
    "print ('Intercept: ',lrmodel.intercept_)"
   ]
  },
  {
   "cell_type": "markdown",
   "id": "14fa217a",
   "metadata": {},
   "source": [
    "Prediction for the test set:"
   ]
  },
  {
   "cell_type": "code",
   "execution_count": 32,
   "id": "a9989333",
   "metadata": {},
   "outputs": [],
   "source": [
    "predictions = lrmodel.predict(X_test)"
   ]
  },
  {
   "cell_type": "markdown",
   "id": "5569b4cb",
   "metadata": {},
   "source": [
    "Evaluation of the model:"
   ]
  },
  {
   "cell_type": "code",
   "execution_count": 33,
   "id": "d8142aa5",
   "metadata": {
    "scrolled": false
   },
   "outputs": [
    {
     "name": "stdout",
     "output_type": "stream",
     "text": [
      "MSE : 113957039622.36102\n",
      "R2-score: -0.24\n"
     ]
    }
   ],
   "source": [
    "from sklearn.metrics import mean_squared_error, r2_score\n",
    "\n",
    "print(f\"MSE : {mean_squared_error(predictions, y_test)}\")\n",
    "print(\"R2-score: %.2f\" % r2_score(y_test , predictions))"
   ]
  },
  {
   "cell_type": "markdown",
   "id": "7d5544eb",
   "metadata": {},
   "source": [
    "We got a negative R2 score!! Which means the model can be arbitrarily worse. So the linear regression model doesn't seem to work for this data!! Now let's try our chance with KNN Regressor:"
   ]
  },
  {
   "cell_type": "markdown",
   "id": "371fad15",
   "metadata": {},
   "source": [
    "## KNN\n",
    "In order to use KNN, we need to transform our categorical Data into numerical ones; we also change the boolean (True, False) to integer and the integers to floats:"
   ]
  },
  {
   "cell_type": "code",
   "execution_count": 34,
   "id": "aa78e2eb",
   "metadata": {},
   "outputs": [],
   "source": [
    "df2 = df\n",
    "\n",
    "for i in df2.columns: \n",
    "    if df2[i].dtype == 'object':\n",
    "        encoder.fit_transform(list(df2[i].values))\n",
    "        df2[i] = encoder.transform(df2[i].values)\n",
    "        \n",
    "for j in df2.columns: \n",
    "    if df2[j].dtype == 'bool':\n",
    "        df2[j] = df2[j].astype('int64')\n",
    "                \n",
    "for k in df2.columns: \n",
    "    if df2[k].dtype == 'int':\n",
    "        df2[k] = df2[k].astype('float64')"
   ]
  },
  {
   "cell_type": "markdown",
   "id": "3deb9e06",
   "metadata": {},
   "source": [
    "Now, as you see in the df2, we will only be dealing with numbers."
   ]
  },
  {
   "cell_type": "code",
   "execution_count": 35,
   "id": "ecafbc9e",
   "metadata": {},
   "outputs": [
    {
     "data": {
      "text/html": [
       "<div>\n",
       "<style scoped>\n",
       "    .dataframe tbody tr th:only-of-type {\n",
       "        vertical-align: middle;\n",
       "    }\n",
       "\n",
       "    .dataframe tbody tr th {\n",
       "        vertical-align: top;\n",
       "    }\n",
       "\n",
       "    .dataframe thead th {\n",
       "        text-align: right;\n",
       "    }\n",
       "</style>\n",
       "<table border=\"1\" class=\"dataframe\">\n",
       "  <thead>\n",
       "    <tr style=\"text-align: right;\">\n",
       "      <th></th>\n",
       "      <th>Area</th>\n",
       "      <th>Room</th>\n",
       "      <th>Parking</th>\n",
       "      <th>Warehouse</th>\n",
       "      <th>Elevator</th>\n",
       "      <th>Address</th>\n",
       "      <th>Price</th>\n",
       "      <th>Price(USD)</th>\n",
       "    </tr>\n",
       "  </thead>\n",
       "  <tbody>\n",
       "    <tr>\n",
       "      <th>0</th>\n",
       "      <td>63</td>\n",
       "      <td>1</td>\n",
       "      <td>1</td>\n",
       "      <td>1</td>\n",
       "      <td>1</td>\n",
       "      <td>156</td>\n",
       "      <td>1,850,000,000</td>\n",
       "      <td>61,667</td>\n",
       "    </tr>\n",
       "    <tr>\n",
       "      <th>1</th>\n",
       "      <td>60</td>\n",
       "      <td>1</td>\n",
       "      <td>1</td>\n",
       "      <td>1</td>\n",
       "      <td>1</td>\n",
       "      <td>156</td>\n",
       "      <td>1,850,000,000</td>\n",
       "      <td>61,667</td>\n",
       "    </tr>\n",
       "    <tr>\n",
       "      <th>2</th>\n",
       "      <td>79</td>\n",
       "      <td>2</td>\n",
       "      <td>1</td>\n",
       "      <td>1</td>\n",
       "      <td>1</td>\n",
       "      <td>117</td>\n",
       "      <td>550,000,000</td>\n",
       "      <td>18,333</td>\n",
       "    </tr>\n",
       "    <tr>\n",
       "      <th>3</th>\n",
       "      <td>95</td>\n",
       "      <td>2</td>\n",
       "      <td>1</td>\n",
       "      <td>1</td>\n",
       "      <td>1</td>\n",
       "      <td>152</td>\n",
       "      <td>902,500,000</td>\n",
       "      <td>30,083</td>\n",
       "    </tr>\n",
       "    <tr>\n",
       "      <th>4</th>\n",
       "      <td>123</td>\n",
       "      <td>2</td>\n",
       "      <td>1</td>\n",
       "      <td>1</td>\n",
       "      <td>1</td>\n",
       "      <td>150</td>\n",
       "      <td>7,000,000,000</td>\n",
       "      <td>233,333</td>\n",
       "    </tr>\n",
       "    <tr>\n",
       "      <th>5</th>\n",
       "      <td>70</td>\n",
       "      <td>2</td>\n",
       "      <td>1</td>\n",
       "      <td>1</td>\n",
       "      <td>0</td>\n",
       "      <td>106</td>\n",
       "      <td>2,050,000,000</td>\n",
       "      <td>68,333</td>\n",
       "    </tr>\n",
       "    <tr>\n",
       "      <th>6</th>\n",
       "      <td>87</td>\n",
       "      <td>2</td>\n",
       "      <td>1</td>\n",
       "      <td>1</td>\n",
       "      <td>1</td>\n",
       "      <td>117</td>\n",
       "      <td>600,000,000</td>\n",
       "      <td>20,000</td>\n",
       "    </tr>\n",
       "    <tr>\n",
       "      <th>7</th>\n",
       "      <td>59</td>\n",
       "      <td>1</td>\n",
       "      <td>1</td>\n",
       "      <td>1</td>\n",
       "      <td>1</td>\n",
       "      <td>156</td>\n",
       "      <td>2,150,000,000</td>\n",
       "      <td>71,667</td>\n",
       "    </tr>\n",
       "    <tr>\n",
       "      <th>8</th>\n",
       "      <td>54</td>\n",
       "      <td>2</td>\n",
       "      <td>1</td>\n",
       "      <td>1</td>\n",
       "      <td>0</td>\n",
       "      <td>13</td>\n",
       "      <td>493,000,000</td>\n",
       "      <td>16,433</td>\n",
       "    </tr>\n",
       "  </tbody>\n",
       "</table>\n",
       "</div>"
      ],
      "text/plain": [
       "   Area  Room  Parking  Warehouse  Elevator  Address         Price  Price(USD)\n",
       "0    63     1        1          1         1      156 1,850,000,000      61,667\n",
       "1    60     1        1          1         1      156 1,850,000,000      61,667\n",
       "2    79     2        1          1         1      117   550,000,000      18,333\n",
       "3    95     2        1          1         1      152   902,500,000      30,083\n",
       "4   123     2        1          1         1      150 7,000,000,000     233,333\n",
       "5    70     2        1          1         0      106 2,050,000,000      68,333\n",
       "6    87     2        1          1         1      117   600,000,000      20,000\n",
       "7    59     1        1          1         1      156 2,150,000,000      71,667\n",
       "8    54     2        1          1         0       13   493,000,000      16,433"
      ]
     },
     "execution_count": 35,
     "metadata": {},
     "output_type": "execute_result"
    }
   ],
   "source": [
    "df2.head(9)"
   ]
  },
  {
   "cell_type": "markdown",
   "id": "d50a9e42",
   "metadata": {},
   "source": [
    "Let's define our independent variables and our Response variable:"
   ]
  },
  {
   "cell_type": "code",
   "execution_count": 36,
   "id": "00f8bafa",
   "metadata": {},
   "outputs": [
    {
     "name": "stdout",
     "output_type": "stream",
     "text": [
      "[[ 63.   1.   1.   1. 156.]\n",
      " [ 60.   1.   1.   1. 156.]\n",
      " [ 79.   2.   1.   1. 117.]\n",
      " [ 95.   2.   1.   1. 152.]\n",
      " [123.   2.   1.   1. 150.]]\n",
      "[[ 61666.67]\n",
      " [ 61666.67]\n",
      " [ 18333.33]\n",
      " [ 30083.33]\n",
      " [233333.33]]\n"
     ]
    }
   ],
   "source": [
    "X = df2[['Area', 'Room', 'Warehouse', 'Elevator', 'Address']].values\n",
    "print(X [0:5])\n",
    "\n",
    "y = df2[['Price(USD)']].values\n",
    "print(y [0:5])"
   ]
  },
  {
   "cell_type": "markdown",
   "id": "aa4305b0",
   "metadata": {},
   "source": [
    "Since we use KNN and it calculates the distance between our data points, the scales are so different; for example, compare the scale of the column Area and the column Rooms!\n",
    "\n",
    "For the model to work better, we scale our data using the normal distribution:"
   ]
  },
  {
   "cell_type": "code",
   "execution_count": 39,
   "id": "8381e241",
   "metadata": {
    "scrolled": true
   },
   "outputs": [
    {
     "data": {
      "text/plain": [
       "array([[-0.48735338, -1.42272564,  0.30511784,  0.52011437,  1.01359766],\n",
       "       [-0.51970843, -1.42272564,  0.30511784,  0.52011437,  1.01359766],\n",
       "       [-0.31479312, -0.10674255,  0.30511784,  0.52011437,  0.23860802],\n",
       "       [-0.14223287, -0.10674255,  0.30511784,  0.52011437,  0.93411154],\n",
       "       [ 0.15974758, -0.10674255,  0.30511784,  0.52011437,  0.89436848]])"
      ]
     },
     "execution_count": 39,
     "metadata": {},
     "output_type": "execute_result"
    }
   ],
   "source": [
    "from sklearn import preprocessing\n",
    "from sklearn.preprocessing import StandardScaler\n",
    "\n",
    "Scaler = preprocessing.StandardScaler().fit(X)\n",
    "X = Scaler.transform(X.astype(float))\n",
    "X[0:5]"
   ]
  },
  {
   "cell_type": "markdown",
   "id": "442dac18",
   "metadata": {},
   "source": [
    "Splitting the dataset into train and test sets:"
   ]
  },
  {
   "cell_type": "code",
   "execution_count": 40,
   "id": "b885b500",
   "metadata": {
    "scrolled": true
   },
   "outputs": [
    {
     "name": "stdout",
     "output_type": "stream",
     "text": [
      "Train set: (2761, 5) (2761, 1)\n",
      "Test set: (691, 5) (691, 1)\n"
     ]
    }
   ],
   "source": [
    "from sklearn.model_selection import train_test_split\n",
    "X_train, X_test, y_train, y_test = train_test_split( X, y, test_size=0.2, random_state=4)\n",
    "print ('Train set:', X_train.shape,  y_train.shape)\n",
    "print ('Test set:', X_test.shape,  y_test.shape)"
   ]
  },
  {
   "cell_type": "markdown",
   "id": "9cb2c5e8",
   "metadata": {},
   "source": [
    "Fitting a KNN Model with K=3:"
   ]
  },
  {
   "cell_type": "code",
   "execution_count": 41,
   "id": "748eedad",
   "metadata": {},
   "outputs": [
    {
     "data": {
      "text/plain": [
       "KNeighborsRegressor(n_neighbors=3)"
      ]
     },
     "execution_count": 41,
     "metadata": {},
     "output_type": "execute_result"
    }
   ],
   "source": [
    "from sklearn.neighbors import KNeighborsRegressor\n",
    "k = 3  \n",
    "knnr = KNeighborsRegressor(n_neighbors = k).fit(X_train,y_train)\n",
    "knnr"
   ]
  },
  {
   "cell_type": "markdown",
   "id": "c0aeebab",
   "metadata": {},
   "source": [
    "Prediction for the test set:"
   ]
  },
  {
   "cell_type": "code",
   "execution_count": 42,
   "id": "9abb41e9",
   "metadata": {},
   "outputs": [
    {
     "data": {
      "text/plain": [
       "array([[128666.66666667],\n",
       "       [145555.55666667],\n",
       "       [118111.11333333],\n",
       "       [ 90666.66666667],\n",
       "       [ 92777.77666667]])"
      ]
     },
     "execution_count": 42,
     "metadata": {},
     "output_type": "execute_result"
    }
   ],
   "source": [
    "yhat = knnr.predict(X_test)\n",
    "yhat[0:5]"
   ]
  },
  {
   "cell_type": "markdown",
   "id": "dd78cfc9",
   "metadata": {},
   "source": [
    "Evaluation of the model:"
   ]
  },
  {
   "cell_type": "code",
   "execution_count": 43,
   "id": "6844b47f",
   "metadata": {},
   "outputs": [
    {
     "name": "stdout",
     "output_type": "stream",
     "text": [
      "MSE : 23791661118.96873\n",
      "R2-score: 0.74\n"
     ]
    }
   ],
   "source": [
    "from sklearn.metrics import mean_squared_error, r2_score\n",
    "\n",
    "print(f\"MSE : {mean_squared_error(yhat, y_test)}\")\n",
    "print(\"R2-score: %.2f\" % r2_score(y_test , yhat))"
   ]
  },
  {
   "cell_type": "markdown",
   "id": "a7d928b0",
   "metadata": {},
   "source": [
    "We considered the K equal to 3 but is that the best K? let's find out:"
   ]
  },
  {
   "cell_type": "code",
   "execution_count": 44,
   "id": "842af069",
   "metadata": {},
   "outputs": [],
   "source": [
    "Ks = 10\n",
    "mean_acc = np.zeros((Ks-1))\n",
    "std_acc = np.zeros((Ks-1))\n",
    "\n",
    "for n in range(1,Ks):\n",
    "    \n",
    "    knnr = KNeighborsRegressor(n_neighbors = n).fit(X_train,y_train)\n",
    "    yhat = knnr.predict(X_test)\n",
    "    mean_acc[n-1] = r2_score(y_test , yhat)\n",
    "\n",
    "    std_acc[n-1]=np.std(yhat==y_test)/np.sqrt(yhat.shape[0])\n",
    "    "
   ]
  },
  {
   "cell_type": "code",
   "execution_count": 45,
   "id": "04e7ec1f",
   "metadata": {},
   "outputs": [
    {
     "data": {
      "image/png": "[encoded data removed]",
      "text/plain": [
       "<Figure size 432x288 with 1 Axes>"
      ]
     },
     "metadata": {
      "needs_background": "light"
     },
     "output_type": "display_data"
    },
    {
     "name": "stdout",
     "output_type": "stream",
     "text": [
      "The best accuracy was with 0.7903831981785352 with k= 2\n"
     ]
    }
   ],
   "source": [
    "plt.plot(range(1,Ks),mean_acc,'g')\n",
    "plt.fill_between(range(1,Ks),mean_acc - 1 * std_acc,mean_acc + 1 * std_acc, alpha=0.10)\n",
    "plt.fill_between(range(1,Ks),mean_acc - 3 * std_acc,mean_acc + 3 * std_acc, alpha=0.10,color=\"green\")\n",
    "plt.legend(('Accuracy ', '+/- 1xstd','+/- 3xstd'))\n",
    "plt.ylabel('Accuracy ')\n",
    "plt.xlabel('Number of Neighbors (K)')\n",
    "plt.tight_layout()\n",
    "plt.show()\n",
    "\n",
    "print( \"The best accuracy was with\", mean_acc.max(), \"with k=\", mean_acc.argmax()+1) "
   ]
  },
  {
   "cell_type": "markdown",
   "id": "90844ed2",
   "metadata": {},
   "source": [
    "We got almost 80 Percent accuracy (it can be slightly different with another test and train sets), which is excellent compared to the linear regression model."
   ]
  }
 ],
 "metadata": {
  "kernelspec": {
   "display_name": "Python 3 (ipykernel)",
   "language": "python",
   "name": "python3"
  },
  "language_info": {
   "codemirror_mode": {
    "name": "ipython",
    "version": 3
   },
   "file_extension": ".py",
   "mimetype": "text/x-python",
   "name": "python",
   "nbconvert_exporter": "python",
   "pygments_lexer": "ipython3",
   "version": "3.9.7"
  }
 },
 "nbformat": 4,
 "nbformat_minor": 5
}
